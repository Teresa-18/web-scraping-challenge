{
 "cells": [
  {
   "cell_type": "code",
   "execution_count": null,
   "metadata": {},
   "outputs": [],
   "source": [
    "from bs4 import BeautifulSoup\n",
    "import requests\n",
    "import os\n",
    "from splinter import Browser\n",
    "from splinter.exceptions import ElementDoesNotExist\n",
    "from bs4 import BeautifulSoup"
   ]
  },
  {
   "cell_type": "code",
   "execution_count": null,
   "metadata": {},
   "outputs": [],
   "source": [
    "executable_path = {'executable_path': 'chromedriver.exe'}\n",
    "browser = Browser('chrome', **executable_path, headless=False)"
   ]
  },
  {
   "cell_type": "code",
   "execution_count": null,
   "metadata": {},
   "outputs": [],
   "source": [
    "url = 'http://books.toscrape.com/'\n",
    "browser.visit(url)"
   ]
  },
  {
   "cell_type": "code",
   "execution_count": null,
   "metadata": {},
   "outputs": [],
   "source": [
    "url = 'https://en.wikipedia.org/wiki/List_of_medical_abbreviations'\n",
    "med_abbreviations = ['BMR', 'BP', 'ECG', 'MRI', 'qid', 'WBC']"
   ]
  },
  {
   "cell_type": "code",
   "execution_count": null,
   "metadata": {},
   "outputs": [],
   "source": [
    "#We can use the read_html function in Pandas to automatically scrape any tabular data from a page (tables).\n",
    "tables = pd.read_html(url)\n",
    "tables"
   ]
  },
  {
   "cell_type": "code",
   "execution_count": null,
   "metadata": {},
   "outputs": [],
   "source": [
    "#What we get in return is a list of dataframes for any tabular data that Pandas found.\n",
    "type(tables)"
   ]
  },
  {
   "cell_type": "code",
   "execution_count": null,
   "metadata": {},
   "outputs": [],
   "source": [
    "#We can slice off any of those dataframes that we want using normal indexing.\n",
    "df = tables[]\n",
    "df.columns = ['abb', 'full_name', 'other']\n",
    "df.head"
   ]
  },
  {
   "cell_type": "code",
   "execution_count": null,
   "metadata": {},
   "outputs": [],
   "source": [
    "# Cleanup of extra row\n",
    "del df['other']"
   ]
  },
  {
   "cell_type": "code",
   "execution_count": null,
   "metadata": {},
   "outputs": [],
   "source": [
    "# Drop all single header rows\n",
    "df.columns = df.columns.get_level_values(0)\n",
    "df = df.loc[df.Ref.str.startswith(\"[\")]\n",
    "df.head()"
   ]
  },
  {
   "cell_type": "code",
   "execution_count": null,
   "metadata": {},
   "outputs": [],
   "source": [
    "# Drop the first row and set the index to the `abb` column\n",
    "### BEGIN SOLUTION\n",
    "df = df.iloc[1:]\n",
    "df.set_index('abb', inplace=True)\n",
    "df.head()\n",
    "### END SOLUTION"
   ]
  },
  {
   "cell_type": "code",
   "execution_count": null,
   "metadata": {},
   "outputs": [],
   "source": [
    "# Split column values into two separate columns\n",
    "columnsplit = df['City'].str.split(\", \", expand=True)\n",
    "df = df.assign(City=columnsplit[0],State=columnsplit[1])\n",
    "df.head()"
   ]
  },
  {
   "cell_type": "code",
   "execution_count": null,
   "metadata": {},
   "outputs": [],
   "source": [
    "# Drop a column\n",
    "df = df.drop(['Ref'], axis=1)\n",
    "df.head()"
   ]
  },
  {
   "cell_type": "code",
   "execution_count": null,
   "metadata": {},
   "outputs": [],
   "source": [
    "# Reset an index\n",
    "df = df.reset_index(drop=True)\n",
    "df.head()"
   ]
  },
  {
   "cell_type": "code",
   "execution_count": null,
   "metadata": {},
   "outputs": [],
   "source": [
    " df.loc[df.State==\"New York\"]"
   ]
  },
  {
   "cell_type": "code",
   "execution_count": null,
   "metadata": {},
   "outputs": [],
   "source": [
    " # Loop through the list of medical abbreviations and print the abbreviation\n",
    "# along with the full description.\n",
    "# Use the DataFrame to perform the lookup.\n",
    "### BEGIN SOLUTION\n",
    "for abb in med_abbreviations:\n",
    "    print(abb, df.loc[abb].full_name)\n",
    "### END SOLUTION"
   ]
  },
  {
   "cell_type": "code",
   "execution_count": null,
   "metadata": {},
   "outputs": [],
   "source": [
    " # Iterate through all pages\n",
    "for x in range(50):\n",
    "    # HTML object\n",
    "    html = browser.html\n",
    "    # Parse HTML with Beautiful Soup\n",
    "    soup = BeautifulSoup(html, 'html.parser')\n",
    "    # Retrieve all elements that contain book information\n",
    "    articles = soup.find_all('article', class_='product_pod')\n",
    "\n",
    "    # Iterate through each book\n",
    "    for article in articles:\n",
    "        # Use Beautiful Soup's find() method to navigate and retrieve attributes\n",
    "        h3 = article.find('h3')\n",
    "        link = h3.find('a')\n",
    "        href = link['href']\n",
    "        title = link['title']\n",
    "        print('-----------')\n",
    "        print(title)\n",
    "        print('http://books.toscrape.com/' + href)\n",
    "\n",
    "    # Click the 'Next' button on each page\n",
    "    try:\n",
    "        browser.links.find_by_partial_text('next').click()\n",
    "          \n",
    "    except:\n",
    "        print(\"Scraping Complete\")"
   ]
  },
  {
   "cell_type": "code",
   "execution_count": null,
   "metadata": {},
   "outputs": [],
   "source": [
    "html = browser.html\n",
    "soup = BeautifulSoup(html, 'html.parser')\n",
    "\n",
    "sidebar = soup.find('ul', class_='nav-list')\n",
    "\n",
    "categories = sidebar.find_all('li')\n",
    "\n",
    "category_list = []\n",
    "url_list = []\n",
    "book_url_list = []\n",
    "for category in categories:\n",
    "    title = category.text.strip()\n",
    "    category_list.append(title)\n",
    "    book_url = category.find('a')['href']\n",
    "    url_list.append(book_url)\n",
    "\n",
    "book_url_list = ['http://books.toscrape.com/' + url for url in url_list]\n",
    "\n",
    "titles_and_urls = zip(category_list, book_url_list)\n",
    "\n",
    "try:\n",
    "    for title_url in titles_and_urls:\n",
    "        browser.links.find_by_partial_text('next').click()\n",
    "except ElementDoesNotExist:\n",
    "    print(\"Scraping Complete\")"
   ]
  },
  {
   "cell_type": "code",
   "execution_count": null,
   "metadata": {},
   "outputs": [],
   "source": [
    "book_url_list"
   ]
  },
  {
   "cell_type": "code",
   "execution_count": null,
   "metadata": {},
   "outputs": [],
   "source": [
    "browser.quit()"
   ]
  },
  {
   "cell_type": "code",
   "execution_count": null,
   "metadata": {},
   "outputs": [],
   "source": [
    "# Pandas also had a to_html method that we can use to generate HTML tables from DataFrames.\n",
    "html_table = df.to_html()\n",
    "html_table"
   ]
  },
  {
   "cell_type": "code",
   "execution_count": null,
   "metadata": {},
   "outputs": [],
   "source": [
    "# You may have to strip unwanted newlines to clean up the table.\n",
    "html_table.replace('\\n', '')   "
   ]
  },
  {
   "cell_type": "code",
   "execution_count": null,
   "metadata": {},
   "outputs": [],
   "source": [
    "# You can also save the table directly to a file.\n",
    "df.to_html('table.html')"
   ]
  }
 ],
 "metadata": {
  "kernelspec": {
   "display_name": "Python 3",
   "language": "python",
   "name": "python3"
  },
  "language_info": {
   "codemirror_mode": {
    "name": "ipython",
    "version": 3
   },
   "file_extension": ".py",
   "mimetype": "text/x-python",
   "name": "python",
   "nbconvert_exporter": "python",
   "pygments_lexer": "ipython3",
   "version": "3.8.3"
  }
 },
 "nbformat": 4,
 "nbformat_minor": 4
}
