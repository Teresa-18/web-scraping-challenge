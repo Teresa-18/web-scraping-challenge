{
 "cells": [
  {
   "cell_type": "code",
   "execution_count": 2,
   "metadata": {},
   "outputs": [],
   "source": [
    "from bs4 import BeautifulSoup\n",
    "import requests\n",
    "import os\n",
    "from splinter import Browser\n",
    "from splinter.exceptions import ElementDoesNotExist\n",
    "from bs4 import BeautifulSoup\n",
    "import time\n",
    "from selenium import webdriver\n"
   ]
  },
  {
   "cell_type": "code",
   "execution_count": 3,
   "metadata": {},
   "outputs": [],
   "source": [
    "executable_path = {'executable_path':'c:\\\\Users\\\\tmlun\\\\chromedriver.exe'}\n",
    "browser = Browser('chrome', **executable_path, headless=False)"
   ]
  },
  {
   "cell_type": "code",
   "execution_count": 4,
   "metadata": {},
   "outputs": [],
   "source": [
    "url = 'https://mars.nasa.gov/news/?page=0&per_page=40&order=publish_date+desc%2Ccreated_at+desc&search=&category=19%2C165%2C184%2C204&blank_scope=Latest'\n",
    "browser.visit(url)"
   ]
  },
  {
   "cell_type": "code",
   "execution_count": 10,
   "metadata": {},
   "outputs": [
    {
     "name": "stdout",
     "output_type": "stream",
     "text": [
      "NASA's Curiosity Rover Reaches Its 3,000th Day on Mars\n",
      "**********\n",
      "As the rover has continued to ascend Mount Sharp, it’s found distinctive benchlike rock formations.\n"
     ]
    }
   ],
   "source": [
    "# HTML object\n",
    "html = browser.html\n",
    "\n",
    "# Parse HTML with Beautiful Soup\n",
    "soup = BeautifulSoup(html, 'html.parser')\n",
    "\n",
    "# Retrieve all elements that contain book information\n",
    "articles = soup.find('div', class_='list_text')\n",
    "news_title = articles.find(\"div\", class_=\"content_title\").text\n",
    "news_p = articles.find(\"div\", class_=\"article_teaser_body\").text\n",
    "\n",
    "\n",
    "print(news_title)\n",
    "print(\"**********\")\n",
    "print(news_p)"
   ]
  },
  {
   "cell_type": "code",
   "execution_count": 11,
   "metadata": {},
   "outputs": [],
   "source": [
    "url = 'https://www.jpl.nasa.gov/images/?search=&category=Mars'\n",
    "browser.visit(url)\n",
    "\n"
   ]
  },
  {
   "cell_type": "code",
   "execution_count": 25,
   "metadata": {},
   "outputs": [],
   "source": [
    "html = browser.html\n",
    "soup = BeautifulSoup(html, \"html.parser\")\n",
    "images = soup.find('img', class_='main_image')\n",
    "\n",
    "# images = sidebar.find_all('img', class_='thumb')['src']\n",
    "\n",
    "image_url_list = []\n",
    "\n",
    "for image in images:\n",
    "\n",
    "    image_url = category.find('src')\n",
    "    image_url_list.append(image_url)\n",
    "\n",
    "jpeg_url_list = ['https://www.jpl.nasa.gov/' + url for url in image_url_list]\n",
    "\n",
    "# titles_and_urls = zip(category_list, book_url_list)\n",
    "try:\n",
    "    for image_url in image_url_list:\n",
    "        browser.links.find_by_partial_text('news_title').click()\n",
    "\n",
    "# https://mars.nasa.gov/system/news_items/list_view_images/8832_PIA24180-panorama-320.jpg\n",
    "\n",
    "# featured_image_url = \n",
    "\n",
    "except ElementDoesNotExist:\n",
    "    print(\"Scraping Complete\")"
   ]
  },
  {
   "cell_type": "code",
   "execution_count": null,
   "metadata": {},
   "outputs": [],
   "source": [
    "# med_abbreviations = ['BMR', 'BP', 'ECG', 'MRI', 'qid', 'WBC']\n",
    "\n",
    "# # We can use the read_html function in Pandas to automatically scrape any tabular data from a page (tables).\n",
    "# tables = pd.read_html(url)\n",
    "# tables"
   ]
  },
  {
   "cell_type": "code",
   "execution_count": null,
   "metadata": {},
   "outputs": [],
   "source": [
    "# #What we get in return is a list of dataframes for any tabular data that Pandas found.\n",
    "# type(tables)"
   ]
  },
  {
   "cell_type": "code",
   "execution_count": null,
   "metadata": {},
   "outputs": [],
   "source": [
    "# #We can slice off any of those dataframes that we want using normal indexing.\n",
    "# df = tables[]\n",
    "# df.columns = ['abb', 'full_name', 'other']\n",
    "# df.head"
   ]
  },
  {
   "cell_type": "code",
   "execution_count": null,
   "metadata": {},
   "outputs": [],
   "source": [
    "# # Cleanup of extra row\n",
    "# del df['other']"
   ]
  },
  {
   "cell_type": "code",
   "execution_count": null,
   "metadata": {},
   "outputs": [],
   "source": [
    "# # Drop all single header rows\n",
    "# df.columns = df.columns.get_level_values(0)\n",
    "# df = df.loc[df.Ref.str.startswith(\"[\")]\n",
    "# df.head()"
   ]
  },
  {
   "cell_type": "code",
   "execution_count": null,
   "metadata": {},
   "outputs": [],
   "source": [
    "# # Drop the first row and set the index to the `abb` column\n",
    "# ### BEGIN SOLUTION\n",
    "# df = df.iloc[1:]\n",
    "# df.set_index('abb', inplace=True)\n",
    "# df.head()\n",
    "# ### END SOLUTION"
   ]
  },
  {
   "cell_type": "code",
   "execution_count": null,
   "metadata": {},
   "outputs": [],
   "source": [
    "# # Split column values into two separate columns\n",
    "# columnsplit = df['City'].str.split(\", \", expand=True)\n",
    "# df = df.assign(City=columnsplit[0],State=columnsplit[1])\n",
    "# df.head()"
   ]
  },
  {
   "cell_type": "code",
   "execution_count": null,
   "metadata": {},
   "outputs": [],
   "source": [
    "# # Drop a column\n",
    "# df = df.drop(['Ref'], axis=1)\n",
    "# df.head()"
   ]
  },
  {
   "cell_type": "code",
   "execution_count": null,
   "metadata": {},
   "outputs": [],
   "source": [
    "# # Reset an index\n",
    "# df = df.reset_index(drop=True)\n",
    "# df.head()"
   ]
  },
  {
   "cell_type": "code",
   "execution_count": null,
   "metadata": {},
   "outputs": [],
   "source": [
    "#  df.loc[df.State==\"New York\"]"
   ]
  },
  {
   "cell_type": "code",
   "execution_count": null,
   "metadata": {},
   "outputs": [],
   "source": [
    "#  # Loop through the list of medical abbreviations and print the abbreviation\n",
    "# # along with the full description.\n",
    "# # Use the DataFrame to perform the lookup.\n",
    "# ### BEGIN SOLUTION\n",
    "# for abb in med_abbreviations:\n",
    "#     print(abb, df.loc[abb].full_name)\n",
    "# ### END SOLUTION"
   ]
  },
  {
   "cell_type": "code",
   "execution_count": 22,
   "metadata": {},
   "outputs": [],
   "source": []
  },
  {
   "cell_type": "code",
   "execution_count": null,
   "metadata": {},
   "outputs": [],
   "source": []
  },
  {
   "cell_type": "code",
   "execution_count": null,
   "metadata": {},
   "outputs": [],
   "source": [
    "book_url_list"
   ]
  },
  {
   "cell_type": "code",
   "execution_count": null,
   "metadata": {},
   "outputs": [],
   "source": [
    "browser.quit()"
   ]
  },
  {
   "cell_type": "code",
   "execution_count": null,
   "metadata": {},
   "outputs": [],
   "source": [
    "# Pandas also had a to_html method that we can use to generate HTML tables from DataFrames.\n",
    "html_table = df.to_html()\n",
    "html_table"
   ]
  },
  {
   "cell_type": "code",
   "execution_count": null,
   "metadata": {},
   "outputs": [],
   "source": [
    "# You may have to strip unwanted newlines to clean up the table.\n",
    "html_table.replace('\\n', '')   "
   ]
  },
  {
   "cell_type": "code",
   "execution_count": null,
   "metadata": {},
   "outputs": [],
   "source": [
    "# You can also save the table directly to a file.\n",
    "df.to_html('table.html')"
   ]
  }
 ],
 "metadata": {
  "kernelspec": {
   "display_name": "Python 3",
   "language": "python",
   "name": "python3"
  },
  "language_info": {
   "codemirror_mode": {
    "name": "ipython",
    "version": 3
   },
   "file_extension": ".py",
   "mimetype": "text/x-python",
   "name": "python",
   "nbconvert_exporter": "python",
   "pygments_lexer": "ipython3",
   "version": "3.8.3"
  }
 },
 "nbformat": 4,
 "nbformat_minor": 4
}
